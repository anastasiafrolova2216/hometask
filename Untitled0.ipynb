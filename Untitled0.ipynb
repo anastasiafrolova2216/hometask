{
  "nbformat": 4,
  "nbformat_minor": 0,
  "metadata": {
    "colab": {
      "provenance": [],
      "authorship_tag": "ABX9TyPQgN2KZHMZ56IymQZ+H5ww",
      "include_colab_link": true
    },
    "kernelspec": {
      "name": "python3",
      "display_name": "Python 3"
    },
    "language_info": {
      "name": "python"
    }
  },
  "cells": [
    {
      "cell_type": "markdown",
      "metadata": {
        "id": "view-in-github",
        "colab_type": "text"
      },
      "source": [
        "<a href=\"https://colab.research.google.com/github/anastasiafrolova2216/hometask/blob/master/Untitled0.ipynb\" target=\"_parent\"><img src=\"https://colab.research.google.com/assets/colab-badge.svg\" alt=\"Open In Colab\"/></a>"
      ]
    },
    {
      "cell_type": "code",
      "execution_count": null,
      "metadata": {
        "colab": {
          "base_uri": "https://localhost:8080/"
        },
        "id": "Zxp6uuCMgXrg",
        "outputId": "db0b1ff6-d142-406f-8d4f-508b6da2e029"
      },
      "outputs": [
        {
          "output_type": "stream",
          "name": "stdout",
          "text": [
            "Введите слово: шалаш\n",
            "Слово \"шалаш\" является палиндромом\n"
          ]
        }
      ],
      "source": [
        "basic_word = str(input(\"Введите слово: \"))\n",
        "\n",
        "def Palindrome(word):\n",
        "  \n",
        "  word_len = len(word)\n",
        "\n",
        "  shift = 0\n",
        "  if word_len % 2 != 0:\n",
        "    shift = 1\n",
        "  else:\n",
        "\n",
        "  line = int((word_len-shift)/2)\n",
        "\n",
        "  ch1 = word[0:line]\n",
        "  ch2 = word[(line+shift):word_len][::-1]\n",
        "\n",
        "  return ch1 == ch2\n",
        "\n",
        "result = Palindrome(basic_word)\n",
        "\n",
        "if result:\n",
        "  print('Слово \"' + basic_word + '\" является палиндромом')\n",
        "else:\n",
        "  print('Слово \"' + basic_word + '\" - это не палиндром')\n",
        "\n"
      ]
    },
    {
      "cell_type": "code",
      "source": [
        "basic_word = str(input(\"Введите слово: \"))\n",
        "\n",
        "if 'ф' in basic_word.lower():\n",
        "    print ('Ого! Вы ввели редкое слово!')\n",
        "else:\n",
        "    print ('Эх, это не очень редкое слово ' + basic_word)"
      ],
      "metadata": {
        "colab": {
          "base_uri": "https://localhost:8080/"
        },
        "id": "bSog6noNmMvy",
        "outputId": "1954c8a6-148a-4dfc-8b84-dc1a287297ca"
      },
      "execution_count": null,
      "outputs": [
        {
          "output_type": "stream",
          "name": "stdout",
          "text": [
            "Введите слово: фрукт\n",
            "Ого! Вы ввели редкое слово!\n"
          ]
        }
      ]
    }
  ]
}