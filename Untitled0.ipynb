{
  "cells": [
    {
      "cell_type": "markdown",
      "metadata": {
        "colab_type": "text",
        "id": "view-in-github"
      },
      "source": [
        "<a href=\"https://colab.research.google.com/github/anastasiafrolova2216/hometask/blob/master/Untitled0.ipynb\" target=\"_parent\"><img src=\"https://colab.research.google.com/assets/colab-badge.svg\" alt=\"Open In Colab\"/></a>"
      ]
    },
    {
      "cell_type": "code",
      "execution_count": null,
      "metadata": {
        "colab": {
          "base_uri": "https://localhost:8080/"
        },
        "id": "Zxp6uuCMgXrg",
        "outputId": "db0b1ff6-d142-406f-8d4f-508b6da2e029"
      },
      "outputs": [
        {
          "name": "stdout",
          "output_type": "stream",
          "text": [
            "Введите слово: шалаш\n",
            "Слово \"шалаш\" является палиндромом\n"
          ]
        }
      ],
      "source": [
        "basic_word = str(input(\"Введите слово2: \"))\n",
        "\n",
        "def Palindrome(word):\n",
        "  \n",
        "  word_len = len(word)\n",
        "\n",
        "  shift = 0\n",
        "  if word_len % 2 != 0:\n",
        "    shift = 1\n",
        "  else:\n",
        "\n",
        "  line = int((word_len-shift)/2)\n",
        "\n",
        "  ch1 = word[0:line]\n",
        "  ch2 = word[(line+shift):word_len][::-1]\n",
        "\n",
        "  return ch1 == ch2\n",
        "\n",
        "result = Palindrome(basic_word)\n",
        "\n",
        "if result:\n",
        "  print('Слово \"' + basic_word + '\" является палиндромом')\n",
        "else:\n",
        "  print('Слово \"' + basic_word + '\" - это не палиндром')\n",
        "\n"
      ]
    },
    {
      "cell_type": "code",
      "execution_count": null,
      "metadata": {
        "colab": {
          "base_uri": "https://localhost:8080/"
        },
        "id": "bSog6noNmMvy",
        "outputId": "1954c8a6-148a-4dfc-8b84-dc1a287297ca"
      },
      "outputs": [
        {
          "name": "stdout",
          "output_type": "stream",
          "text": [
            "Введите слово: фрукт\n",
            "Ого! Вы ввели редкое слово!\n"
          ]
        }
      ],
      "source": [
        "basic_word = str(input(\"Введите слово: \"))\n",
        "\n",
        "if 'ф' in basic_word.lower():\n",
        "    print ('Ого! Вы ввели редкое слово!')\n",
        "else:\n",
        "    print ('Эх, это не очень редкое слово ' + basic_word)"
      ]
    }
  ],
  "metadata": {
    "colab": {
      "authorship_tag": "ABX9TyPQgN2KZHMZ56IymQZ+H5ww",
      "include_colab_link": true,
      "provenance": []
    },
    "kernelspec": {
      "display_name": "Python 3",
      "name": "python3"
    },
    "language_info": {
      "name": "python"
    }
  },
  "nbformat": 4,
  "nbformat_minor": 0
}
